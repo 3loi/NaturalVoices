{
 "cells": [
  {
   "cell_type": "code",
   "execution_count": 1,
   "metadata": {},
   "outputs": [
    {
     "name": "stderr",
     "output_type": "stream",
     "text": [
      "/home/susmitha/anaconda3/envs/pyannote/lib/python3.10/site-packages/pyannote/audio/core/io.py:43: UserWarning: torchaudio._backend.set_audio_backend has been deprecated. With dispatcher enabled, this function is no-op. You can remove the function call.\n",
      "  torchaudio.set_audio_backend(\"soundfile\")\n",
      "/home/susmitha/anaconda3/envs/pyannote/lib/python3.10/site-packages/tqdm/auto.py:21: TqdmWarning: IProgress not found. Please update jupyter and ipywidgets. See https://ipywidgets.readthedocs.io/en/stable/user_install.html\n",
      "  from .autonotebook import tqdm as notebook_tqdm\n",
      "/home/susmitha/anaconda3/envs/pyannote/lib/python3.10/site-packages/torch_audiomentations/utils/io.py:27: UserWarning: torchaudio._backend.set_audio_backend has been deprecated. With dispatcher enabled, this function is no-op. You can remove the function call.\n",
      "  torchaudio.set_audio_backend(\"soundfile\")\n"
     ]
    }
   ],
   "source": [
    "from glob import glob\n",
    "from tqdm import tqdm\n",
    "import os, sys, pickle\n",
    "import torch, librosa\n",
    "from pyannote.audio import Pipeline\n",
    "from config import config"
   ]
  },
  {
   "cell_type": "code",
   "execution_count": 2,
   "metadata": {},
   "outputs": [],
   "source": [
    "device = torch.device(config['cude_device'])"
   ]
  },
  {
   "cell_type": "code",
   "execution_count": 3,
   "metadata": {},
   "outputs": [
    {
     "data": {
      "text/plain": [
       "<pyannote.audio.pipelines.speaker_diarization.SpeakerDiarization at 0x7fac92423e50>"
      ]
     },
     "execution_count": 3,
     "metadata": {},
     "output_type": "execute_result"
    }
   ],
   "source": [
    "pipeline = Pipeline.from_pretrained(config['pyannote']['diar_model'], use_auth_token=config['pyannote']['auth_key'])\n",
    "pipeline.to(device)"
   ]
  },
  {
   "cell_type": "code",
   "execution_count": 4,
   "metadata": {},
   "outputs": [
    {
     "name": "stdout",
     "output_type": "stream",
     "text": [
      "finished asr: 6785\n",
      "remaining podcasts: 0\n"
     ]
    }
   ],
   "source": [
    "podcasts = glob(os.path.join(config['podcast']['path'], \"*.wav\"))\n",
    "finished_podcasts = glob(os.path.join(config['pyannote']['diar_output_path'], \"*\"))\n",
    "\n",
    "podcasts = {os.path.basename(x).split('.')[0]:x for x in podcasts}\n",
    "finished_podcasts = {os.path.basename(x):x for x in finished_podcasts}\n",
    "\n",
    "remaining = list(set(podcasts.keys()) - finished_podcasts.keys())\n",
    "remaining.sort()\n",
    "podcasts = [podcasts[x] for x in remaining]\n",
    "\n",
    "print('finished asr: {}\\nremaining podcasts: {}'.format(len(finished_podcasts), len(podcasts)))"
   ]
  },
  {
   "cell_type": "code",
   "execution_count": 5,
   "metadata": {
    "tags": []
   },
   "outputs": [
    {
     "name": "stderr",
     "output_type": "stream",
     "text": [
      "0it [00:00, ?it/s]"
     ]
    },
    {
     "name": "stdout",
     "output_type": "stream",
     "text": [
      "Done\n"
     ]
    },
    {
     "name": "stderr",
     "output_type": "stream",
     "text": [
      "\n"
     ]
    }
   ],
   "source": [
    "for pod in tqdm(podcasts):\n",
    "    break\n",
    "    try:\n",
    "        diarization = pipeline(pod)\n",
    "    except:\n",
    "        print(\"unable to process: \", pod)\n",
    "        continue\n",
    "    output_file = os.path.join(config['pyannote']['diar_output_path'], \n",
    "                     os.path.basename(pod).split('.')[0])\n",
    "    with open(output_file, 'wb') as f:\n",
    "        pickle.dump(diarization, f)\n",
    "print(\"Done\")"
   ]
  },
  {
   "cell_type": "code",
   "execution_count": null,
   "metadata": {},
   "outputs": [],
   "source": []
  }
 ],
 "metadata": {
  "kernelspec": {
   "display_name": "pyannote",
   "language": "python",
   "name": "pyannote"
  },
  "language_info": {
   "codemirror_mode": {
    "name": "ipython",
    "version": 3
   },
   "file_extension": ".py",
   "mimetype": "text/x-python",
   "name": "python",
   "nbconvert_exporter": "python",
   "pygments_lexer": "ipython3",
   "version": "3.10.13"
  }
 },
 "nbformat": 4,
 "nbformat_minor": 5
}
