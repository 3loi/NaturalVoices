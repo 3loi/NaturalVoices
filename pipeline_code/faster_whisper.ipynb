{
 "cells": [
  {
   "cell_type": "code",
   "execution_count": 1,
   "metadata": {},
   "outputs": [],
   "source": [
    "from faster_whisper import WhisperModel\n",
    "from glob import glob\n",
    "from tqdm import tqdm\n",
    "import pickle\n",
    "import os\n",
    "from config import config"
   ]
  },
  {
   "cell_type": "code",
   "execution_count": 2,
   "metadata": {},
   "outputs": [],
   "source": [
    "#load whisper model\n",
    "model = WhisperModel(config['whisper']['model'], device='cuda', compute_type='float16')"
   ]
  },
  {
   "cell_type": "code",
   "execution_count": 3,
   "metadata": {},
   "outputs": [],
   "source": [
    "#get filenames of podcasts\n",
    "podcasts = glob(os.path.join(config['podcast']['path'], \"*.wav\"))"
   ]
  },
  {
   "cell_type": "code",
   "execution_count": 4,
   "metadata": {},
   "outputs": [],
   "source": [
    "#get filenames of processed (whisper) podcasts\n",
    "finished_podcasts = glob(os.path.join(config['whisper']['output_path'], \"*\"))"
   ]
  },
  {
   "cell_type": "code",
   "execution_count": 8,
   "metadata": {},
   "outputs": [
    {
     "name": "stdout",
     "output_type": "stream",
     "text": [
      "finished asr: 6790\n",
      "remaining podcasts: 0\n"
     ]
    }
   ],
   "source": [
    "#filter by podcasts that have not been processed (whisper)\n",
    "podcasts = {os.path.basename(x).split('.')[0]:x for x in podcasts}\n",
    "finished_podcasts = {os.path.basename(x):x for x in finished_podcasts}\n",
    "remaining = list(set(podcasts.keys()) - finished_podcasts.keys())\n",
    "remaining.sort()\n",
    "podcasts = [podcasts[x] for x in remaining]\n",
    "print('finished asr: {}\\nremaining podcasts: {}'.format(len(finished_podcasts), len(podcasts)))"
   ]
  },
  {
   "cell_type": "code",
   "execution_count": 10,
   "metadata": {},
   "outputs": [
    {
     "name": "stderr",
     "output_type": "stream",
     "text": [
      "0it [00:00, ?it/s]\n"
     ]
    }
   ],
   "source": [
    "for pod in tqdm(podcasts):\n",
    "    segments, info = model.transcribe(pod, word_timestamps=True, vad_filter=True)\n",
    "    segments = list(segments)\n",
    "    \n",
    "    with open('../faster_whisper/' + os.path.basename(pod).split('.')[0], 'wb') as f:\n",
    "        pickle.dump(segments, f)\n",
    "print(\"Done\")"
   ]
  },
  {
   "cell_type": "code",
   "execution_count": null,
   "metadata": {},
   "outputs": [],
   "source": []
  }
 ],
 "metadata": {
  "kernelspec": {
   "display_name": "Python 3",
   "language": "python",
   "name": "python3"
  },
  "language_info": {
   "codemirror_mode": {
    "name": "ipython",
    "version": 3
   },
   "file_extension": ".py",
   "mimetype": "text/x-python",
   "name": "python",
   "nbconvert_exporter": "python",
   "pygments_lexer": "ipython3",
   "version": "3.8.3"
  }
 },
 "nbformat": 4,
 "nbformat_minor": 5
}
