{
 "cells": [
  {
   "cell_type": "code",
   "execution_count": 1,
   "metadata": {},
   "outputs": [],
   "source": [
    "import os, pickle, json\n",
    "import numpy as np\n",
    "from glob import glob\n",
    "from tqdm import tqdm\n",
    "from pyannote.core import notebook, Segment\n",
    "from intervaltree import Interval, IntervalTree\n",
    "from config import config\n",
    "from collections import defaultdict"
   ]
  },
  {
   "cell_type": "code",
   "execution_count": 2,
   "metadata": {},
   "outputs": [],
   "source": [
    "asr = glob(os.path.join(config['whisper']['output_path'], \"*\"))\n",
    "asr.sort()\n",
    "asr = {os.path.basename(x):x for x in asr}"
   ]
  },
  {
   "cell_type": "code",
   "execution_count": 3,
   "metadata": {},
   "outputs": [],
   "source": [
    "diar = glob(os.path.join(config['pyannote']['diar_output_path'], \"*\"))\n",
    "diar.sort()\n",
    "diar = {os.path.basename(x):x for x in diar}"
   ]
  },
  {
   "cell_type": "code",
   "execution_count": 4,
   "metadata": {},
   "outputs": [
    {
     "name": "stderr",
     "output_type": "stream",
     "text": [
      "100%|███████████████████████████████████████| 6790/6790 [02:53<00:00, 39.10it/s]\n"
     ]
    }
   ],
   "source": [
    "all_data = {}\n",
    "for pod, pod_path in tqdm(asr.items()):\n",
    "    \n",
    "    with open(pod_path, 'rb') as f:\n",
    "        segments = pickle.load(f)\n",
    "    text = ''\n",
    "    start = None\n",
    "    \n",
    "    all_data[pod] = {}\n",
    "    counter = 1 \n",
    "    for j, k in enumerate(range(len(segments))):\n",
    "\n",
    "\n",
    "        seg = segments[k]\n",
    "        s_start, end = seg.start, seg.end\n",
    "        if start == None:\n",
    "            start = s_start\n",
    "\n",
    "        if (k+1) == len(segments):\n",
    "            end = min(end, end+0.5) #change to end+1, end_audio\n",
    "            all_data[pod][counter] = {\n",
    "                'start':start,\n",
    "                'end':end,\n",
    "                'text':text.strip(),\n",
    "            }\n",
    "            continue\n",
    "\n",
    "        next_seg_start = segments[k+1].start\n",
    "        if (next_seg_start - end) > 0.2:\n",
    "            text += seg.text\n",
    "            end = min((next_seg_start - 0.05), end+0.5)\n",
    "            all_data[pod][counter] = {\n",
    "                'start':start,\n",
    "                'end':end,\n",
    "                'text':text.strip(),\n",
    "            }\n",
    "            start = None\n",
    "            text = ''\n",
    "            counter += 1\n",
    "        else:\n",
    "            text += seg.text"
   ]
  },
  {
   "cell_type": "code",
   "execution_count": 5,
   "metadata": {},
   "outputs": [
    {
     "name": "stderr",
     "output_type": "stream",
     "text": [
      "100%|███████████████████████████████████████| 6790/6790 [01:43<00:00, 65.46it/s]\n"
     ]
    }
   ],
   "source": [
    "for pod in tqdm(all_data.keys()):\n",
    "    if pod not in diar:\n",
    "        continue\n",
    "    with open(diar[pod], 'rb') as f:\n",
    "        diarization = pickle.load(f)\n",
    "        \n",
    "    d = [list(x) for x in list(diarization.itertracks(yield_label=True))]\n",
    "    d = IntervalTree(\n",
    "        Interval(info.start, info.end, \"%s-%s\" % (speaker, buf)) for info, buf, speaker in d\n",
    "    )\n",
    "\n",
    "\n",
    "    for seg in all_data[pod].keys():\n",
    "        start, end = all_data[pod][seg]['start'], all_data[pod][seg]['end']\n",
    "        speaking_utt = sorted(list(d.overlap(start, end)))\n",
    "        speakers = list(set([x[2] for x in speaking_utt]))\n",
    "        all_data[pod][seg]['speakers'] = speakers\n",
    "        all_data[pod][seg]['num_speakers'] = len(speakers)\n"
   ]
  },
  {
   "cell_type": "code",
   "execution_count": 6,
   "metadata": {},
   "outputs": [],
   "source": [
    "with open(config['json_path'], 'w') as fp:\n",
    "    json.dump(all_data, fp)"
   ]
  },
  {
   "cell_type": "code",
   "execution_count": null,
   "metadata": {},
   "outputs": [],
   "source": [
    " "
   ]
  }
 ],
 "metadata": {
  "kernelspec": {
   "display_name": "tts",
   "language": "python",
   "name": "tts"
  },
  "language_info": {
   "codemirror_mode": {
    "name": "ipython",
    "version": 3
   },
   "file_extension": ".py",
   "mimetype": "text/x-python",
   "name": "python",
   "nbconvert_exporter": "python",
   "pygments_lexer": "ipython3",
   "version": "3.10.13"
  }
 },
 "nbformat": 4,
 "nbformat_minor": 5
}
