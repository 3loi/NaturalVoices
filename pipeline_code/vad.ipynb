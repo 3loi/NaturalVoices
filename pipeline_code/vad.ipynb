{
 "cells": [
  {
   "cell_type": "code",
   "execution_count": 1,
   "metadata": {},
   "outputs": [
    {
     "name": "stderr",
     "output_type": "stream",
     "text": [
      "/home/susmitha/anaconda3/envs/pyannote/lib/python3.10/site-packages/pyannote/audio/core/io.py:43: UserWarning: torchaudio._backend.set_audio_backend has been deprecated. With dispatcher enabled, this function is no-op. You can remove the function call.\n",
      "  torchaudio.set_audio_backend(\"soundfile\")\n",
      "/home/susmitha/anaconda3/envs/pyannote/lib/python3.10/site-packages/tqdm/auto.py:21: TqdmWarning: IProgress not found. Please update jupyter and ipywidgets. See https://ipywidgets.readthedocs.io/en/stable/user_install.html\n",
      "  from .autonotebook import tqdm as notebook_tqdm\n",
      "/home/susmitha/anaconda3/envs/pyannote/lib/python3.10/site-packages/torch_audiomentations/utils/io.py:27: UserWarning: torchaudio._backend.set_audio_backend has been deprecated. With dispatcher enabled, this function is no-op. You can remove the function call.\n",
      "  torchaudio.set_audio_backend(\"soundfile\")\n"
     ]
    }
   ],
   "source": [
    "from glob import glob\n",
    "from tqdm import tqdm\n",
    "import os, sys, pickle\n",
    "import torch, librosa\n",
    "from pyannote.audio import Pipeline\n",
    "from config import config"
   ]
  },
  {
   "cell_type": "code",
   "execution_count": 2,
   "metadata": {},
   "outputs": [
    {
     "name": "stderr",
     "output_type": "stream",
     "text": [
      "Lightning automatically upgraded your loaded checkpoint from v1.1.3 to v2.1.4. To apply the upgrade to your files permanently, run `python -m pytorch_lightning.utilities.upgrade_checkpoint ../../../../../home/susmitha/.cache/torch/pyannote/models--pyannote--segmentation/snapshots/059e96f964841d40f1a5e755bb7223f76666bba4/pytorch_model.bin`\n"
     ]
    },
    {
     "name": "stdout",
     "output_type": "stream",
     "text": [
      "Model was trained with pyannote.audio 0.0.1, yours is 3.1.1. Bad things might happen unless you revert pyannote.audio to 0.x.\n",
      "Model was trained with torch 1.7.1, yours is 2.2.0+cu118. Bad things might happen unless you revert torch to 1.x.\n"
     ]
    }
   ],
   "source": [
    "from pyannote.audio import Pipeline\n",
    "pipeline = Pipeline.from_pretrained(config['pyannote']['vad_model'], use_auth_token=config['pyannote']['auth_key'])\n"
   ]
  },
  {
   "cell_type": "code",
   "execution_count": 3,
   "metadata": {},
   "outputs": [
    {
     "data": {
      "text/plain": [
       "<pyannote.audio.pipelines.voice_activity_detection.VoiceActivityDetection at 0x7fe47d46d930>"
      ]
     },
     "execution_count": 3,
     "metadata": {},
     "output_type": "execute_result"
    }
   ],
   "source": [
    "initial_params = {\"onset\": 0.6, \"offset\": 0.4, \n",
    "                  \"min_duration_on\": 0.0, \"min_duration_off\": 0.0}\n",
    "pipeline.instantiate(initial_params)"
   ]
  },
  {
   "cell_type": "code",
   "execution_count": 4,
   "metadata": {},
   "outputs": [
    {
     "data": {
      "text/plain": [
       "<pyannote.audio.pipelines.voice_activity_detection.VoiceActivityDetection at 0x7fe47d46d930>"
      ]
     },
     "execution_count": 4,
     "metadata": {},
     "output_type": "execute_result"
    }
   ],
   "source": [
    "device = torch.device(config['cude_device'])\n",
    "pipeline.to(device)"
   ]
  },
  {
   "cell_type": "code",
   "execution_count": 5,
   "metadata": {},
   "outputs": [
    {
     "name": "stdout",
     "output_type": "stream",
     "text": [
      "finished asr: 6787\n",
      "remaining podcasts: 3\n"
     ]
    }
   ],
   "source": [
    "podcasts = glob(os.path.join(config['podcast']['path'], \"*.wav\"))\n",
    "finished_podcasts = glob(os.path.join(config['pyannote']['vad_output_path'], \"*\"))\n",
    "\n",
    "\n",
    "podcasts = {os.path.basename(x).split('.')[0]:x for x in podcasts}\n",
    "finished_podcasts = {os.path.basename(x):x for x in finished_podcasts}\n",
    "\n",
    "remaining = list(set(podcasts.keys()) - finished_podcasts.keys())\n",
    "remaining.sort()\n",
    "podcasts = [podcasts[x] for x in remaining]\n",
    "\n",
    "print('finished asr: {}\\nremaining podcasts: {}'.format(len(finished_podcasts), len(podcasts)))"
   ]
  },
  {
   "cell_type": "code",
   "execution_count": 6,
   "metadata": {},
   "outputs": [
    {
     "name": "stderr",
     "output_type": "stream",
     "text": [
      "  0%|                                                     | 0/3 [00:00<?, ?it/s]Note: Illegal Audio-MPEG-Header 0x1b88b821 at offset 32823.\n",
      "Note: Trying to resync...\n",
      "Note: Skipped 1024 bytes in input.\n",
      "[src/libmpg123/parse.c:wetwork():1365] error: Giving up resync after 1024 bytes - your stream is not nice... (maybe increasing resync limit could help).\n",
      "100%|█████████████████████████████████████████████| 3/3 [00:00<00:00, 66.23it/s]"
     ]
    },
    {
     "name": "stdout",
     "output_type": "stream",
     "text": [
      "unable to process:  /media/susmitha/HDD_14TB/NaturalVoices/podcasts/MSP-PODCAST_1185.wav\n",
      "unable to process:  /media/susmitha/HDD_14TB/NaturalVoices/podcasts/MSP-PODCAST_1187.wav\n",
      "unable to process:  /media/susmitha/HDD_14TB/NaturalVoices/podcasts/MSP-PODCAST_1516.wav\n"
     ]
    },
    {
     "name": "stderr",
     "output_type": "stream",
     "text": [
      "\n"
     ]
    }
   ],
   "source": [
    "for pod in tqdm(podcasts):\n",
    "    try:\n",
    "        diarization = pipeline(pod)\n",
    "    except:\n",
    "        print(\"unable to process: \", pod)\n",
    "        continue\n",
    "    with open(config['pyannote']['vad_output_path'] + os.path.basename(pod).split('.')[0], 'wb') as f:\n",
    "        pickle.dump(diarization, f)\n",
    "        "
   ]
  },
  {
   "cell_type": "code",
   "execution_count": null,
   "metadata": {},
   "outputs": [],
   "source": []
  }
 ],
 "metadata": {
  "kernelspec": {
   "display_name": "pyannote",
   "language": "python",
   "name": "pyannote"
  },
  "language_info": {
   "codemirror_mode": {
    "name": "ipython",
    "version": 3
   },
   "file_extension": ".py",
   "mimetype": "text/x-python",
   "name": "python",
   "nbconvert_exporter": "python",
   "pygments_lexer": "ipython3",
   "version": "3.10.13"
  }
 },
 "nbformat": 4,
 "nbformat_minor": 5
}
